{
 "cells": [
  {
   "cell_type": "code",
   "execution_count": 3,
   "id": "6a77dfd8-eab8-4bdd-a2f1-3273ec66d3ce",
   "metadata": {},
   "outputs": [],
   "source": [
    "import tensorflow as tf"
   ]
  },
  {
   "cell_type": "code",
   "execution_count": 4,
   "id": "32de310a-f652-4aa5-bd48-7c221919a0b8",
   "metadata": {},
   "outputs": [],
   "source": [
    "import pandas as pd\n",
    "train_data=pd.read_csv(\"C:\\\\Users\\\\lenovo\\\\Downloads\\\\archive (1)\\\\train.csv\")\n",
    "test_data=pd.read_csv(\"C:\\\\Users\\\\lenovo\\\\Downloads\\\\archive (1)\\\\test.csv\")"
   ]
  },
  {
   "cell_type": "code",
   "execution_count": 5,
   "id": "0f4d05fc-d7e6-4ee1-b4ac-13e68e14831f",
   "metadata": {},
   "outputs": [
    {
     "data": {
      "text/html": [
       "<div>\n",
       "<style scoped>\n",
       "    .dataframe tbody tr th:only-of-type {\n",
       "        vertical-align: middle;\n",
       "    }\n",
       "\n",
       "    .dataframe tbody tr th {\n",
       "        vertical-align: top;\n",
       "    }\n",
       "\n",
       "    .dataframe thead th {\n",
       "        text-align: right;\n",
       "    }\n",
       "</style>\n",
       "<table border=\"1\" class=\"dataframe\">\n",
       "  <thead>\n",
       "    <tr style=\"text-align: right;\">\n",
       "      <th></th>\n",
       "      <th>Class Index</th>\n",
       "      <th>Title</th>\n",
       "      <th>Description</th>\n",
       "    </tr>\n",
       "  </thead>\n",
       "  <tbody>\n",
       "    <tr>\n",
       "      <th>448</th>\n",
       "      <td>2</td>\n",
       "      <td>Phelps, Thorpe Advance in 200 Freestyle (AP)</td>\n",
       "      <td>AP - Michael Phelps took care of qualifying fo...</td>\n",
       "    </tr>\n",
       "    <tr>\n",
       "      <th>449</th>\n",
       "      <td>2</td>\n",
       "      <td>Reds Knock Padres Out of Wild-Card Lead (AP)</td>\n",
       "      <td>AP - Wily Mo Pena homered twice and drove in f...</td>\n",
       "    </tr>\n",
       "    <tr>\n",
       "      <th>450</th>\n",
       "      <td>2</td>\n",
       "      <td>Dreaming done, NBA stars awaken to harsh Olymp...</td>\n",
       "      <td>AFP - National Basketball Association players ...</td>\n",
       "    </tr>\n",
       "    <tr>\n",
       "      <th>451</th>\n",
       "      <td>2</td>\n",
       "      <td>Indians Beat Twins 7-1, Nearing AL Lead (AP)</td>\n",
       "      <td>AP - The Cleveland Indians pulled within one g...</td>\n",
       "    </tr>\n",
       "    <tr>\n",
       "      <th>452</th>\n",
       "      <td>2</td>\n",
       "      <td>Galaxy, Crew Play to 0-0 Tie (AP)</td>\n",
       "      <td>AP - Kevin Hartman made seven saves for Los An...</td>\n",
       "    </tr>\n",
       "    <tr>\n",
       "      <th>...</th>\n",
       "      <td>...</td>\n",
       "      <td>...</td>\n",
       "      <td>...</td>\n",
       "    </tr>\n",
       "    <tr>\n",
       "      <th>119991</th>\n",
       "      <td>2</td>\n",
       "      <td>Rauffer Beats Favorites to Win Downhill</td>\n",
       "      <td>VAL GARDENA, Italy (Reuters) - Max Rauffer be...</td>\n",
       "    </tr>\n",
       "    <tr>\n",
       "      <th>119996</th>\n",
       "      <td>2</td>\n",
       "      <td>Renteria signing a top-shelf deal</td>\n",
       "      <td>Red Sox general manager Theo Epstein acknowled...</td>\n",
       "    </tr>\n",
       "    <tr>\n",
       "      <th>119997</th>\n",
       "      <td>2</td>\n",
       "      <td>Saban not going to Dolphins yet</td>\n",
       "      <td>The Miami Dolphins will put their courtship of...</td>\n",
       "    </tr>\n",
       "    <tr>\n",
       "      <th>119998</th>\n",
       "      <td>2</td>\n",
       "      <td>Today's NFL games</td>\n",
       "      <td>PITTSBURGH at NY GIANTS Time: 1:30 p.m. Line: ...</td>\n",
       "    </tr>\n",
       "    <tr>\n",
       "      <th>119999</th>\n",
       "      <td>2</td>\n",
       "      <td>Nets get Carter from Raptors</td>\n",
       "      <td>INDIANAPOLIS -- All-Star Vince Carter was trad...</td>\n",
       "    </tr>\n",
       "  </tbody>\n",
       "</table>\n",
       "<p>30000 rows × 3 columns</p>\n",
       "</div>"
      ],
      "text/plain": [
       "        Class Index                                              Title  \\\n",
       "448               2       Phelps, Thorpe Advance in 200 Freestyle (AP)   \n",
       "449               2       Reds Knock Padres Out of Wild-Card Lead (AP)   \n",
       "450               2  Dreaming done, NBA stars awaken to harsh Olymp...   \n",
       "451               2       Indians Beat Twins 7-1, Nearing AL Lead (AP)   \n",
       "452               2                  Galaxy, Crew Play to 0-0 Tie (AP)   \n",
       "...             ...                                                ...   \n",
       "119991            2            Rauffer Beats Favorites to Win Downhill   \n",
       "119996            2                  Renteria signing a top-shelf deal   \n",
       "119997            2                    Saban not going to Dolphins yet   \n",
       "119998            2                                  Today's NFL games   \n",
       "119999            2                       Nets get Carter from Raptors   \n",
       "\n",
       "                                              Description  \n",
       "448     AP - Michael Phelps took care of qualifying fo...  \n",
       "449     AP - Wily Mo Pena homered twice and drove in f...  \n",
       "450     AFP - National Basketball Association players ...  \n",
       "451     AP - The Cleveland Indians pulled within one g...  \n",
       "452     AP - Kevin Hartman made seven saves for Los An...  \n",
       "...                                                   ...  \n",
       "119991   VAL GARDENA, Italy (Reuters) - Max Rauffer be...  \n",
       "119996  Red Sox general manager Theo Epstein acknowled...  \n",
       "119997  The Miami Dolphins will put their courtship of...  \n",
       "119998  PITTSBURGH at NY GIANTS Time: 1:30 p.m. Line: ...  \n",
       "119999  INDIANAPOLIS -- All-Star Vince Carter was trad...  \n",
       "\n",
       "[30000 rows x 3 columns]"
      ]
     },
     "execution_count": 5,
     "metadata": {},
     "output_type": "execute_result"
    }
   ],
   "source": [
    "train_data.head()\n",
    "train_data.loc[train_data[\"Class Index\"]==2]"
   ]
  },
  {
   "cell_type": "code",
   "execution_count": 13,
   "id": "39da59ea-7027-4b7d-b06a-0cbc6c798e7d",
   "metadata": {},
   "outputs": [],
   "source": [
    "classes = ['World', 'Sports', 'Business', 'Sci/Tech']\n",
    "vocab_size=5000\n",
    "test_data.head()\n",
    "test_data=test_data[\"Title\"]+\" \"+test_data[\"Description\"]"
   ]
  },
  {
   "cell_type": "code",
   "execution_count": 16,
   "id": "7aa23877-811a-49f6-bbc1-57db87ffab01",
   "metadata": {},
   "outputs": [],
   "source": [
    "model=tf.keras.Sequential()\n",
    "model.add(tf.keras.layers.TextVectorization(max_tokens=vocab_size,output_mode='count')) # output_mode=count so that it performs bow\n",
    "model.add(tf.keras.layers.Dense(4, activation='softmax'))"
   ]
  },
  {
   "cell_type": "code",
   "execution_count": 40,
   "id": "a940b72c-491c-41fc-93f0-66c7d954a5a7",
   "metadata": {},
   "outputs": [
    {
     "name": "stdout",
     "output_type": "stream",
     "text": [
      "Wall St. Bears Claw Back Into the Black (Reuters) Reuters - Short-sellers, Wall Street's dwindling\\band of ultra-cynics, are seeing green again.\n",
      "<class 'pandas.core.series.Series'>\n"
     ]
    }
   ],
   "source": [
    "data_to_adapt=train_data[\"Title\"]+\" \"+train_data[\"Description\"]\n",
    "print(data_to_adapt[0])\n",
    "print(type(data_to_adapt))\n"
   ]
  },
  {
   "cell_type": "code",
   "execution_count": 18,
   "id": "74dcec44-f9d0-44f2-9e5a-0e75c2a1e17a",
   "metadata": {},
   "outputs": [],
   "source": [
    "model.layers[0].adapt(data_to_adapt)\n"
   ]
  },
  {
   "cell_type": "code",
   "execution_count": 19,
   "id": "6db8a2ff-55ce-4d2a-a7f6-1942818bc258",
   "metadata": {},
   "outputs": [
    {
     "name": "stdout",
     "output_type": "stream",
     "text": [
      "5000\n"
     ]
    }
   ],
   "source": [
    "ans=model.layers[0].get_vocabulary()\n",
    "print(len(ans))"
   ]
  },
  {
   "cell_type": "code",
   "execution_count": 35,
   "id": "d36d30b2-5efd-4f55-ac8e-be808a730bfc",
   "metadata": {},
   "outputs": [],
   "source": [
    "train_labels=train_data[\"Class Index\"]-1 # -1 so that the numbers start from 0 instead of 1 and softmax function gets applied "
   ]
  },
  {
   "cell_type": "code",
   "execution_count": 21,
   "id": "439ba9cd-e842-43ad-8027-3850dcfd5d5b",
   "metadata": {},
   "outputs": [],
   "source": [
    "model.compile(loss='sparse_categorical_crossentropy',optimizer='adam',metrics=['acc'])"
   ]
  },
  {
   "cell_type": "code",
   "execution_count": 22,
   "id": "77ca409d-d4ea-44a7-abdb-0d7751e4d769",
   "metadata": {},
   "outputs": [
    {
     "name": "stdout",
     "output_type": "stream",
     "text": [
      "Epoch 1/7\n",
      "\u001b[1m2925/2925\u001b[0m \u001b[32m━━━━━━━━━━━━━━━━━━━━\u001b[0m\u001b[37m\u001b[0m \u001b[1m12s\u001b[0m 4ms/step - acc: 0.8292 - loss: 0.6501 - val_acc: 0.8942 - val_loss: 0.3396\n",
      "Epoch 2/7\n",
      "\u001b[1m2925/2925\u001b[0m \u001b[32m━━━━━━━━━━━━━━━━━━━━\u001b[0m\u001b[37m\u001b[0m \u001b[1m10s\u001b[0m 3ms/step - acc: 0.9090 - loss: 0.2939 - val_acc: 0.8984 - val_loss: 0.3075\n",
      "Epoch 3/7\n",
      "\u001b[1m2925/2925\u001b[0m \u001b[32m━━━━━━━━━━━━━━━━━━━━\u001b[0m\u001b[37m\u001b[0m \u001b[1m10s\u001b[0m 3ms/step - acc: 0.9189 - loss: 0.2546 - val_acc: 0.8983 - val_loss: 0.3018\n",
      "Epoch 4/7\n",
      "\u001b[1m2925/2925\u001b[0m \u001b[32m━━━━━━━━━━━━━━━━━━━━\u001b[0m\u001b[37m\u001b[0m \u001b[1m10s\u001b[0m 3ms/step - acc: 0.9221 - loss: 0.2343 - val_acc: 0.8951 - val_loss: 0.3061\n",
      "Epoch 5/7\n",
      "\u001b[1m2925/2925\u001b[0m \u001b[32m━━━━━━━━━━━━━━━━━━━━\u001b[0m\u001b[37m\u001b[0m \u001b[1m10s\u001b[0m 3ms/step - acc: 0.9235 - loss: 0.2270 - val_acc: 0.8931 - val_loss: 0.3107\n",
      "Epoch 6/7\n",
      "\u001b[1m2925/2925\u001b[0m \u001b[32m━━━━━━━━━━━━━━━━━━━━\u001b[0m\u001b[37m\u001b[0m \u001b[1m10s\u001b[0m 3ms/step - acc: 0.9257 - loss: 0.2180 - val_acc: 0.8912 - val_loss: 0.3137\n",
      "Epoch 7/7\n",
      "\u001b[1m2925/2925\u001b[0m \u001b[32m━━━━━━━━━━━━━━━━━━━━\u001b[0m\u001b[37m\u001b[0m \u001b[1m10s\u001b[0m 3ms/step - acc: 0.9280 - loss: 0.2107 - val_acc: 0.8905 - val_loss: 0.3178\n"
     ]
    }
   ],
   "source": [
    "history=model.fit(data_to_adapt,train_labels,validation_split=0.22, epochs=7)"
   ]
  },
  {
   "cell_type": "code",
   "execution_count": 31,
   "id": "2058ea0e-29ab-45fb-aebd-bbfc5ce8d3d9",
   "metadata": {},
   "outputs": [
    {
     "name": "stdout",
     "output_type": "stream",
     "text": [
      "[<KerasVariable shape=(5000, 4), dtype=float32, path=sequential/dense/kernel>, <KerasVariable shape=(4,), dtype=float32, path=sequential/dense/bias>]\n"
     ]
    }
   ],
   "source": [
    "print(model.weights)\n",
    "# s=\"football basketball\"\n",
    "# print(s[0])\n",
    "# ans=model.predict(test_data[:1])"
   ]
  },
  {
   "cell_type": "code",
   "execution_count": 29,
   "id": "d7e86e4c-2287-42a5-b290-299ef6d22ac1",
   "metadata": {},
   "outputs": [
    {
     "name": "stdout",
     "output_type": "stream",
     "text": [
      "[[0.33763772 0.00068428 0.621651   0.04002699]]\n",
      "0    Fears for T N pension after talks Unions repre...\n",
      "dtype: object\n",
      "<class 'pandas.core.series.Series'>\n"
     ]
    }
   ],
   "source": [
    "print(ans)\n",
    "print(test_data[:1])\n",
    "print(type(test_data[:1]))"
   ]
  },
  {
   "cell_type": "code",
   "execution_count": 41,
   "id": "d757f9fc-ed5d-49ae-8541-00dcad43796b",
   "metadata": {},
   "outputs": [
    {
     "name": "stdout",
     "output_type": "stream",
     "text": [
      "\u001b[1m1/1\u001b[0m \u001b[32m━━━━━━━━━━━━━━━━━━━━\u001b[0m\u001b[37m\u001b[0m \u001b[1m1s\u001b[0m 1s/step\n"
     ]
    }
   ],
   "source": [
    "import pandas as pd\n",
    "s=\"artifical intelligence robot physics antronomy football cricket olympics\"\n",
    "# print(s[0])\n",
    "ans=model.predict(pd.Series(s))"
   ]
  },
  {
   "cell_type": "code",
   "execution_count": 42,
   "id": "724f43d0-e3af-4f83-b9cb-0759485768e9",
   "metadata": {},
   "outputs": [
    {
     "name": "stdout",
     "output_type": "stream",
     "text": [
      "[[0.5062714  0.4521871  0.01381363 0.02772786]]\n"
     ]
    }
   ],
   "source": [
    "print(ans)"
   ]
  }
 ],
 "metadata": {
  "kernelspec": {
   "display_name": "Python 3 (ipykernel)",
   "language": "python",
   "name": "python3"
  },
  "language_info": {
   "codemirror_mode": {
    "name": "ipython",
    "version": 3
   },
   "file_extension": ".py",
   "mimetype": "text/x-python",
   "name": "python",
   "nbconvert_exporter": "python",
   "pygments_lexer": "ipython3",
   "version": "3.12.2"
  }
 },
 "nbformat": 4,
 "nbformat_minor": 5
}
