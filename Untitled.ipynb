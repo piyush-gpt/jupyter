{
 "cells": [
  {
   "cell_type": "code",
   "execution_count": 45,
   "id": "69eacb20-b342-4210-aafa-3446d4eac1eb",
   "metadata": {},
   "outputs": [],
   "source": [
    "import tensorflow as tf\n"
   ]
  },
  {
   "cell_type": "code",
   "execution_count": 46,
   "id": "ca6a8730-4f9b-4c35-ba25-d0f199b9b247",
   "metadata": {},
   "outputs": [],
   "source": [
    "import pandas as pd\n",
    "train_data=pd.read_csv(\"C:\\\\Users\\\\lenovo\\\\Downloads\\\\archive (1)\\\\train.csv\")\n",
    "test_data=pd.read_csv(\"C:\\\\Users\\\\lenovo\\\\Downloads\\\\archive (1)\\\\test.csv\")\n"
   ]
  },
  {
   "cell_type": "code",
   "execution_count": 47,
   "id": "dd1b0997-7871-45d6-a221-defd9b3a7952",
   "metadata": {},
   "outputs": [
    {
     "data": {
      "text/html": [
       "<div>\n",
       "<style scoped>\n",
       "    .dataframe tbody tr th:only-of-type {\n",
       "        vertical-align: middle;\n",
       "    }\n",
       "\n",
       "    .dataframe tbody tr th {\n",
       "        vertical-align: top;\n",
       "    }\n",
       "\n",
       "    .dataframe thead th {\n",
       "        text-align: right;\n",
       "    }\n",
       "</style>\n",
       "<table border=\"1\" class=\"dataframe\">\n",
       "  <thead>\n",
       "    <tr style=\"text-align: right;\">\n",
       "      <th></th>\n",
       "      <th>Class Index</th>\n",
       "      <th>Title</th>\n",
       "      <th>Description</th>\n",
       "    </tr>\n",
       "  </thead>\n",
       "  <tbody>\n",
       "    <tr>\n",
       "      <th>448</th>\n",
       "      <td>2</td>\n",
       "      <td>Phelps, Thorpe Advance in 200 Freestyle (AP)</td>\n",
       "      <td>AP - Michael Phelps took care of qualifying fo...</td>\n",
       "    </tr>\n",
       "    <tr>\n",
       "      <th>449</th>\n",
       "      <td>2</td>\n",
       "      <td>Reds Knock Padres Out of Wild-Card Lead (AP)</td>\n",
       "      <td>AP - Wily Mo Pena homered twice and drove in f...</td>\n",
       "    </tr>\n",
       "    <tr>\n",
       "      <th>450</th>\n",
       "      <td>2</td>\n",
       "      <td>Dreaming done, NBA stars awaken to harsh Olymp...</td>\n",
       "      <td>AFP - National Basketball Association players ...</td>\n",
       "    </tr>\n",
       "    <tr>\n",
       "      <th>451</th>\n",
       "      <td>2</td>\n",
       "      <td>Indians Beat Twins 7-1, Nearing AL Lead (AP)</td>\n",
       "      <td>AP - The Cleveland Indians pulled within one g...</td>\n",
       "    </tr>\n",
       "    <tr>\n",
       "      <th>452</th>\n",
       "      <td>2</td>\n",
       "      <td>Galaxy, Crew Play to 0-0 Tie (AP)</td>\n",
       "      <td>AP - Kevin Hartman made seven saves for Los An...</td>\n",
       "    </tr>\n",
       "    <tr>\n",
       "      <th>...</th>\n",
       "      <td>...</td>\n",
       "      <td>...</td>\n",
       "      <td>...</td>\n",
       "    </tr>\n",
       "    <tr>\n",
       "      <th>119991</th>\n",
       "      <td>2</td>\n",
       "      <td>Rauffer Beats Favorites to Win Downhill</td>\n",
       "      <td>VAL GARDENA, Italy (Reuters) - Max Rauffer be...</td>\n",
       "    </tr>\n",
       "    <tr>\n",
       "      <th>119996</th>\n",
       "      <td>2</td>\n",
       "      <td>Renteria signing a top-shelf deal</td>\n",
       "      <td>Red Sox general manager Theo Epstein acknowled...</td>\n",
       "    </tr>\n",
       "    <tr>\n",
       "      <th>119997</th>\n",
       "      <td>2</td>\n",
       "      <td>Saban not going to Dolphins yet</td>\n",
       "      <td>The Miami Dolphins will put their courtship of...</td>\n",
       "    </tr>\n",
       "    <tr>\n",
       "      <th>119998</th>\n",
       "      <td>2</td>\n",
       "      <td>Today's NFL games</td>\n",
       "      <td>PITTSBURGH at NY GIANTS Time: 1:30 p.m. Line: ...</td>\n",
       "    </tr>\n",
       "    <tr>\n",
       "      <th>119999</th>\n",
       "      <td>2</td>\n",
       "      <td>Nets get Carter from Raptors</td>\n",
       "      <td>INDIANAPOLIS -- All-Star Vince Carter was trad...</td>\n",
       "    </tr>\n",
       "  </tbody>\n",
       "</table>\n",
       "<p>30000 rows × 3 columns</p>\n",
       "</div>"
      ],
      "text/plain": [
       "        Class Index                                              Title  \\\n",
       "448               2       Phelps, Thorpe Advance in 200 Freestyle (AP)   \n",
       "449               2       Reds Knock Padres Out of Wild-Card Lead (AP)   \n",
       "450               2  Dreaming done, NBA stars awaken to harsh Olymp...   \n",
       "451               2       Indians Beat Twins 7-1, Nearing AL Lead (AP)   \n",
       "452               2                  Galaxy, Crew Play to 0-0 Tie (AP)   \n",
       "...             ...                                                ...   \n",
       "119991            2            Rauffer Beats Favorites to Win Downhill   \n",
       "119996            2                  Renteria signing a top-shelf deal   \n",
       "119997            2                    Saban not going to Dolphins yet   \n",
       "119998            2                                  Today's NFL games   \n",
       "119999            2                       Nets get Carter from Raptors   \n",
       "\n",
       "                                              Description  \n",
       "448     AP - Michael Phelps took care of qualifying fo...  \n",
       "449     AP - Wily Mo Pena homered twice and drove in f...  \n",
       "450     AFP - National Basketball Association players ...  \n",
       "451     AP - The Cleveland Indians pulled within one g...  \n",
       "452     AP - Kevin Hartman made seven saves for Los An...  \n",
       "...                                                   ...  \n",
       "119991   VAL GARDENA, Italy (Reuters) - Max Rauffer be...  \n",
       "119996  Red Sox general manager Theo Epstein acknowled...  \n",
       "119997  The Miami Dolphins will put their courtship of...  \n",
       "119998  PITTSBURGH at NY GIANTS Time: 1:30 p.m. Line: ...  \n",
       "119999  INDIANAPOLIS -- All-Star Vince Carter was trad...  \n",
       "\n",
       "[30000 rows x 3 columns]"
      ]
     },
     "execution_count": 47,
     "metadata": {},
     "output_type": "execute_result"
    }
   ],
   "source": [
    "train_data.head()\n",
    "train_data.loc[train_data[\"Class Index\"]==2]"
   ]
  },
  {
   "cell_type": "code",
   "execution_count": 49,
   "id": "34ab0a7d-3942-4ce5-8376-ac77bdf6523c",
   "metadata": {},
   "outputs": [
    {
     "data": {
      "text/html": [
       "<div>\n",
       "<style scoped>\n",
       "    .dataframe tbody tr th:only-of-type {\n",
       "        vertical-align: middle;\n",
       "    }\n",
       "\n",
       "    .dataframe tbody tr th {\n",
       "        vertical-align: top;\n",
       "    }\n",
       "\n",
       "    .dataframe thead th {\n",
       "        text-align: right;\n",
       "    }\n",
       "</style>\n",
       "<table border=\"1\" class=\"dataframe\">\n",
       "  <thead>\n",
       "    <tr style=\"text-align: right;\">\n",
       "      <th></th>\n",
       "      <th>Class Index</th>\n",
       "      <th>Title</th>\n",
       "      <th>Description</th>\n",
       "    </tr>\n",
       "  </thead>\n",
       "  <tbody>\n",
       "    <tr>\n",
       "      <th>0</th>\n",
       "      <td>3</td>\n",
       "      <td>Fears for T N pension after talks</td>\n",
       "      <td>Unions representing workers at Turner   Newall...</td>\n",
       "    </tr>\n",
       "    <tr>\n",
       "      <th>1</th>\n",
       "      <td>4</td>\n",
       "      <td>The Race is On: Second Private Team Sets Launc...</td>\n",
       "      <td>SPACE.com - TORONTO, Canada -- A second\\team o...</td>\n",
       "    </tr>\n",
       "    <tr>\n",
       "      <th>2</th>\n",
       "      <td>4</td>\n",
       "      <td>Ky. Company Wins Grant to Study Peptides (AP)</td>\n",
       "      <td>AP - A company founded by a chemistry research...</td>\n",
       "    </tr>\n",
       "    <tr>\n",
       "      <th>3</th>\n",
       "      <td>4</td>\n",
       "      <td>Prediction Unit Helps Forecast Wildfires (AP)</td>\n",
       "      <td>AP - It's barely dawn when Mike Fitzpatrick st...</td>\n",
       "    </tr>\n",
       "    <tr>\n",
       "      <th>4</th>\n",
       "      <td>4</td>\n",
       "      <td>Calif. Aims to Limit Farm-Related Smog (AP)</td>\n",
       "      <td>AP - Southern California's smog-fighting agenc...</td>\n",
       "    </tr>\n",
       "  </tbody>\n",
       "</table>\n",
       "</div>"
      ],
      "text/plain": [
       "   Class Index                                              Title  \\\n",
       "0            3                  Fears for T N pension after talks   \n",
       "1            4  The Race is On: Second Private Team Sets Launc...   \n",
       "2            4      Ky. Company Wins Grant to Study Peptides (AP)   \n",
       "3            4      Prediction Unit Helps Forecast Wildfires (AP)   \n",
       "4            4        Calif. Aims to Limit Farm-Related Smog (AP)   \n",
       "\n",
       "                                         Description  \n",
       "0  Unions representing workers at Turner   Newall...  \n",
       "1  SPACE.com - TORONTO, Canada -- A second\\team o...  \n",
       "2  AP - A company founded by a chemistry research...  \n",
       "3  AP - It's barely dawn when Mike Fitzpatrick st...  \n",
       "4  AP - Southern California's smog-fighting agenc...  "
      ]
     },
     "execution_count": 49,
     "metadata": {},
     "output_type": "execute_result"
    }
   ],
   "source": [
    "classes = ['World', 'Sports', 'Business', 'Sci/Tech']\n",
    "vocab_size=5000\n",
    "test_data.head()"
   ]
  },
  {
   "cell_type": "code",
   "execution_count": 58,
   "id": "a4fd8040-f9c1-4e1c-88dd-865d65224936",
   "metadata": {},
   "outputs": [
    {
     "name": "stderr",
     "output_type": "stream",
     "text": [
      "C:\\Users\\lenovo\\AppData\\Local\\Programs\\Python\\Python312\\Lib\\site-packages\\keras\\src\\layers\\core\\dense.py:85: UserWarning: Do not pass an `input_shape`/`input_dim` argument to a layer. When using Sequential models, prefer using an `Input(shape)` object as the first layer in the model instead.\n",
      "  super().__init__(activity_regularizer=activity_regularizer, **kwargs)\n"
     ]
    }
   ],
   "source": [
    "model=tf.keras.Sequential()\n",
    "model.add(tf.keras.layers.TextVectorization(max_tokens=vocab_size,output_mode='count')) # output_mode=count so that it performs bow\n",
    "model.add(tf.keras.layers.Dense(4, input_shape=(vocab_size,),activation='softmax'))"
   ]
  },
  {
   "cell_type": "code",
   "execution_count": 51,
   "id": "bc328c56-fa93-42b9-b323-4a769005fe37",
   "metadata": {},
   "outputs": [
    {
     "data": {
      "text/plain": [
       "\"Wall St. Bears Claw Back Into the Black (Reuters) Reuters - Short-sellers, Wall Street's dwindling\\\\band of ultra-cynics, are seeing green again.\""
      ]
     },
     "execution_count": 51,
     "metadata": {},
     "output_type": "execute_result"
    }
   ],
   "source": [
    "data_to_adapt=train_data[\"Title\"]+\" \"+train_data[\"Description\"]\n",
    "data_to_adapt[0]"
   ]
  },
  {
   "cell_type": "code",
   "execution_count": 8,
   "id": "e7943541-9dcf-44e9-893d-d9a910f820fa",
   "metadata": {},
   "outputs": [],
   "source": [
    "model.layers[0].adapt(data_to_adapt)"
   ]
  },
  {
   "cell_type": "code",
   "execution_count": 9,
   "id": "672628d1-0459-4aa1-9542-ecd4f2ba04f0",
   "metadata": {},
   "outputs": [
    {
     "name": "stdout",
     "output_type": "stream",
     "text": [
      "5000\n"
     ]
    }
   ],
   "source": [
    "ans=model.layers[0].get_vocabulary()\n",
    "print(len(ans))"
   ]
  },
  {
   "cell_type": "code",
   "execution_count": 11,
   "id": "6367b2c6-89b2-4c6f-a042-466523e55247",
   "metadata": {},
   "outputs": [],
   "source": [
    "train_labels=train_data[\"Class Index\"]-1 # -1 so that the numbers start from 0 instead of 1 "
   ]
  },
  {
   "cell_type": "code",
   "execution_count": 12,
   "id": "faa2438c-f761-44ec-b2c7-c881c949941b",
   "metadata": {},
   "outputs": [],
   "source": [
    "model.compile(loss='sparse_categorical_crossentropy',optimizer='adam',metrics=['acc'])"
   ]
  },
  {
   "cell_type": "code",
   "execution_count": 13,
   "id": "face9fb2-4387-4a96-aeea-721583796820",
   "metadata": {},
   "outputs": [
    {
     "name": "stdout",
     "output_type": "stream",
     "text": [
      "Epoch 1/10\n",
      "\u001b[1m2925/2925\u001b[0m \u001b[32m━━━━━━━━━━━━━━━━━━━━\u001b[0m\u001b[37m\u001b[0m \u001b[1m13s\u001b[0m 4ms/step - acc: 0.8286 - loss: 0.6492 - val_acc: 0.8934 - val_loss: 0.3388\n",
      "Epoch 2/10\n",
      "\u001b[1m2925/2925\u001b[0m \u001b[32m━━━━━━━━━━━━━━━━━━━━\u001b[0m\u001b[37m\u001b[0m \u001b[1m11s\u001b[0m 4ms/step - acc: 0.9097 - loss: 0.2947 - val_acc: 0.8996 - val_loss: 0.3050\n",
      "Epoch 3/10\n",
      "\u001b[1m2925/2925\u001b[0m \u001b[32m━━━━━━━━━━━━━━━━━━━━\u001b[0m\u001b[37m\u001b[0m \u001b[1m11s\u001b[0m 4ms/step - acc: 0.9176 - loss: 0.2573 - val_acc: 0.8975 - val_loss: 0.3025\n",
      "Epoch 4/10\n",
      "\u001b[1m2925/2925\u001b[0m \u001b[32m━━━━━━━━━━━━━━━━━━━━\u001b[0m\u001b[37m\u001b[0m \u001b[1m11s\u001b[0m 4ms/step - acc: 0.9214 - loss: 0.2384 - val_acc: 0.8957 - val_loss: 0.3037\n",
      "Epoch 5/10\n",
      "\u001b[1m2925/2925\u001b[0m \u001b[32m━━━━━━━━━━━━━━━━━━━━\u001b[0m\u001b[37m\u001b[0m \u001b[1m12s\u001b[0m 4ms/step - acc: 0.9243 - loss: 0.2237 - val_acc: 0.8939 - val_loss: 0.3089\n",
      "Epoch 6/10\n",
      "\u001b[1m2925/2925\u001b[0m \u001b[32m━━━━━━━━━━━━━━━━━━━━\u001b[0m\u001b[37m\u001b[0m \u001b[1m11s\u001b[0m 4ms/step - acc: 0.9243 - loss: 0.2179 - val_acc: 0.8917 - val_loss: 0.3147\n",
      "Epoch 7/10\n",
      "\u001b[1m2925/2925\u001b[0m \u001b[32m━━━━━━━━━━━━━━━━━━━━\u001b[0m\u001b[37m\u001b[0m \u001b[1m11s\u001b[0m 4ms/step - acc: 0.9278 - loss: 0.2112 - val_acc: 0.8902 - val_loss: 0.3211\n",
      "Epoch 8/10\n",
      "\u001b[1m2925/2925\u001b[0m \u001b[32m━━━━━━━━━━━━━━━━━━━━\u001b[0m\u001b[37m\u001b[0m \u001b[1m11s\u001b[0m 4ms/step - acc: 0.9286 - loss: 0.2061 - val_acc: 0.8894 - val_loss: 0.3219\n",
      "Epoch 9/10\n",
      "\u001b[1m2925/2925\u001b[0m \u001b[32m━━━━━━━━━━━━━━━━━━━━\u001b[0m\u001b[37m\u001b[0m \u001b[1m11s\u001b[0m 4ms/step - acc: 0.9299 - loss: 0.2041 - val_acc: 0.8868 - val_loss: 0.3326\n",
      "Epoch 10/10\n",
      "\u001b[1m2925/2925\u001b[0m \u001b[32m━━━━━━━━━━━━━━━━━━━━\u001b[0m\u001b[37m\u001b[0m \u001b[1m11s\u001b[0m 4ms/step - acc: 0.9306 - loss: 0.2008 - val_acc: 0.8865 - val_loss: 0.3360\n"
     ]
    }
   ],
   "source": [
    "history=model.fit(data_to_adapt,train_labels,validation_split=0.22, epochs=10)"
   ]
  },
  {
   "cell_type": "code",
   "execution_count": 64,
   "id": "d56663b6-2e70-4a94-b608-48eef2b0951e",
   "metadata": {},
   "outputs": [
    {
     "ename": "ValueError",
     "evalue": "Shapes used to initialize variables must be fully-defined (no `None` dimensions). Received: shape=(None, 4) for variable path='sequential_3/dense_3/kernel'",
     "output_type": "error",
     "traceback": [
      "\u001b[1;31m---------------------------------------------------------------------------\u001b[0m",
      "\u001b[1;31mValueError\u001b[0m                                Traceback (most recent call last)",
      "Cell \u001b[1;32mIn[64], line 4\u001b[0m\n\u001b[0;32m      2\u001b[0m s\u001b[38;5;241m=\u001b[39m\u001b[38;5;124m\"\u001b[39m\u001b[38;5;124mfootball basketball ggbb  tggt\u001b[39m\u001b[38;5;124m\"\u001b[39m\n\u001b[0;32m      3\u001b[0m sp\u001b[38;5;241m=\u001b[39mpd\u001b[38;5;241m.\u001b[39mSeries(s)\n\u001b[1;32m----> 4\u001b[0m ans\u001b[38;5;241m=\u001b[39m\u001b[43mmodel\u001b[49m\u001b[38;5;241;43m.\u001b[39;49m\u001b[43mpredict\u001b[49m\u001b[43m(\u001b[49m\u001b[43msp\u001b[49m\u001b[43m)\u001b[49m\n",
      "File \u001b[1;32m~\\AppData\\Local\\Programs\\Python\\Python312\\Lib\\site-packages\\keras\\src\\utils\\traceback_utils.py:123\u001b[0m, in \u001b[0;36mfilter_traceback.<locals>.error_handler\u001b[1;34m(*args, **kwargs)\u001b[0m\n\u001b[0;32m    120\u001b[0m     filtered_tb \u001b[38;5;241m=\u001b[39m _process_traceback_frames(e\u001b[38;5;241m.\u001b[39m__traceback__)\n\u001b[0;32m    121\u001b[0m     \u001b[38;5;66;03m# To get the full stack trace, call:\u001b[39;00m\n\u001b[0;32m    122\u001b[0m     \u001b[38;5;66;03m# `keras.config.disable_traceback_filtering()`\u001b[39;00m\n\u001b[1;32m--> 123\u001b[0m     \u001b[38;5;28;01mraise\u001b[39;00m e\u001b[38;5;241m.\u001b[39mwith_traceback(filtered_tb) \u001b[38;5;28;01mfrom\u001b[39;00m \u001b[38;5;28;01mNone\u001b[39;00m\n\u001b[0;32m    124\u001b[0m \u001b[38;5;28;01mfinally\u001b[39;00m:\n\u001b[0;32m    125\u001b[0m     \u001b[38;5;28;01mdel\u001b[39;00m filtered_tb\n",
      "File \u001b[1;32m~\\AppData\\Local\\Programs\\Python\\Python312\\Lib\\site-packages\\keras\\src\\backend\\common\\variables.py:99\u001b[0m, in \u001b[0;36mKerasVariable._validate_shape\u001b[1;34m(self, shape)\u001b[0m\n\u001b[0;32m     97\u001b[0m shape \u001b[38;5;241m=\u001b[39m standardize_shape(shape)\n\u001b[0;32m     98\u001b[0m \u001b[38;5;28;01mif\u001b[39;00m \u001b[38;5;28;01mNone\u001b[39;00m \u001b[38;5;129;01min\u001b[39;00m shape:\n\u001b[1;32m---> 99\u001b[0m     \u001b[38;5;28;01mraise\u001b[39;00m \u001b[38;5;167;01mValueError\u001b[39;00m(\n\u001b[0;32m    100\u001b[0m         \u001b[38;5;124m\"\u001b[39m\u001b[38;5;124mShapes used to initialize variables must be \u001b[39m\u001b[38;5;124m\"\u001b[39m\n\u001b[0;32m    101\u001b[0m         \u001b[38;5;124m\"\u001b[39m\u001b[38;5;124mfully-defined (no `None` dimensions). Received: \u001b[39m\u001b[38;5;124m\"\u001b[39m\n\u001b[0;32m    102\u001b[0m         \u001b[38;5;124mf\u001b[39m\u001b[38;5;124m\"\u001b[39m\u001b[38;5;124mshape=\u001b[39m\u001b[38;5;132;01m{\u001b[39;00mshape\u001b[38;5;132;01m}\u001b[39;00m\u001b[38;5;124m for variable path=\u001b[39m\u001b[38;5;124m'\u001b[39m\u001b[38;5;132;01m{\u001b[39;00m\u001b[38;5;28mself\u001b[39m\u001b[38;5;241m.\u001b[39mpath\u001b[38;5;132;01m}\u001b[39;00m\u001b[38;5;124m'\u001b[39m\u001b[38;5;124m\"\u001b[39m\n\u001b[0;32m    103\u001b[0m     )\n\u001b[0;32m    104\u001b[0m \u001b[38;5;28;01mreturn\u001b[39;00m shape\n",
      "\u001b[1;31mValueError\u001b[0m: Shapes used to initialize variables must be fully-defined (no `None` dimensions). Received: shape=(None, 4) for variable path='sequential_3/dense_3/kernel'"
     ]
    }
   ],
   "source": [
    "import pandas as pd\n",
    "s=\"football basketball\"\n",
    "sp=pd.Series(s))\n",
    "ans=model.predict(sp)"
   ]
  },
  {
   "cell_type": "code",
   "execution_count": 35,
   "id": "08983b44-9a81-4757-aac9-6821158da437",
   "metadata": {},
   "outputs": [
    {
     "name": "stdout",
     "output_type": "stream",
     "text": [
      "[[3.4164393e-01 3.4254690e-04 6.2238538e-01 3.5628144e-02]\n",
      " [3.3247822e-08 2.7387219e-09 6.8000297e-08 9.9999988e-01]\n",
      " [5.5045849e-03 3.4460377e-02 1.8523918e-02 9.4151109e-01]\n",
      " ...\n",
      " [3.7851736e-02 9.6106482e-01 3.3816675e-04 7.4528018e-04]\n",
      " [2.1919398e-01 2.7453294e-04 7.4737358e-01 3.3157818e-02]\n",
      " [2.6650899e-04 1.5126810e-04 6.7247075e-01 3.2711142e-01]]\n"
     ]
    }
   ],
   "source": [
    "print(ans)"
   ]
  }
 ],
 "metadata": {
  "kernelspec": {
   "display_name": "Python 3 (ipykernel)",
   "language": "python",
   "name": "python3"
  },
  "language_info": {
   "codemirror_mode": {
    "name": "ipython",
    "version": 3
   },
   "file_extension": ".py",
   "mimetype": "text/x-python",
   "name": "python",
   "nbconvert_exporter": "python",
   "pygments_lexer": "ipython3",
   "version": "3.12.2"
  }
 },
 "nbformat": 4,
 "nbformat_minor": 5
}
